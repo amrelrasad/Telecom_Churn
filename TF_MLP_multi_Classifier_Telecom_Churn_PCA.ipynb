{
  "nbformat": 4,
  "nbformat_minor": 0,
  "metadata": {
    "colab": {
      "name": "TF-MLP multi Classifier-Telecom_Churn-PCA.ipynb",
      "version": "0.3.2",
      "provenance": [],
      "collapsed_sections": []
    },
    "kernelspec": {
      "name": "python3",
      "display_name": "Python 3"
    },
    "accelerator": "GPU"
  },
  "cells": [
    {
      "metadata": {
        "id": "fW1eP--wmjwU",
        "colab_type": "text"
      },
      "cell_type": "markdown",
      "source": [
        "# TeleCommunication Churn Model Using MLPs"
      ]
    },
    {
      "metadata": {
        "id": "Zr8C4RJtm1hk",
        "colab_type": "text"
      },
      "cell_type": "markdown",
      "source": [
        "\n",
        "## 1.  Import Packages and loading Data\n",
        "\n",
        "\n"
      ]
    },
    {
      "metadata": {
        "id": "vH8DbNj_F_vY",
        "colab_type": "code",
        "colab": {}
      },
      "cell_type": "code",
      "source": [
        "import tensorflow as tf"
      ],
      "execution_count": 0,
      "outputs": []
    },
    {
      "metadata": {
        "id": "Mpk5Qf0oX476",
        "colab_type": "code",
        "outputId": "66f3200f-2946-42c2-cc69-bff741ca640a",
        "colab": {
          "base_uri": "https://localhost:8080/",
          "height": 123
        }
      },
      "cell_type": "code",
      "source": [
        "from google.colab import drive\n",
        "drive.mount('/content/gdrive')"
      ],
      "execution_count": 0,
      "outputs": [
        {
          "output_type": "stream",
          "text": [
            "Go to this URL in a browser: https://accounts.google.com/o/oauth2/auth?client_id=947318989803-6bn6qk8qdgf4n4g3pfee6491hc0brc4i.apps.googleusercontent.com&redirect_uri=urn%3Aietf%3Awg%3Aoauth%3A2.0%3Aoob&scope=email%20https%3A%2F%2Fwww.googleapis.com%2Fauth%2Fdocs.test%20https%3A%2F%2Fwww.googleapis.com%2Fauth%2Fdrive%20https%3A%2F%2Fwww.googleapis.com%2Fauth%2Fdrive.photos.readonly%20https%3A%2F%2Fwww.googleapis.com%2Fauth%2Fpeopleapi.readonly&response_type=code\n",
            "\n",
            "Enter your authorization code:\n",
            "··········\n",
            "Mounted at /content/gdrive\n"
          ],
          "name": "stdout"
        }
      ]
    },
    {
      "metadata": {
        "id": "2CUDTF1wSYrl",
        "colab_type": "code",
        "outputId": "d00fee6e-be64-4e8e-b836-59c665e1c24a",
        "colab": {
          "base_uri": "https://localhost:8080/",
          "height": 34
        }
      },
      "cell_type": "code",
      "source": [
        "#imports\n",
        "import numpy as np\n",
        "from glob import glob\n",
        "from tensorflow import keras\n",
        "from tensorflow.keras.layers import Flatten, Dense\n",
        "from keras import optimizers\n",
        "import matplotlib \n",
        "matplotlib.use('agg')\n",
        "import matplotlib.pyplot as plt                        \n",
        "%matplotlib inline\n",
        "import os\n",
        "import datetime\n",
        "import time\n",
        "from PIL import ImageFile\n",
        "from sklearn import preprocessing\n",
        "from sklearn.metrics import classification_report,accuracy_score,confusion_matrix\n",
        "from sklearn.model_selection import train_test_split\n",
        "ImageFile.LOAD_TRUNCATED_IMAGES = True\n",
        "import warnings\n",
        "warnings.filterwarnings(\"ignore\")\n",
        "import pylab as pl\n",
        "import pandas as pd \n",
        "import seaborn as sns\n"
      ],
      "execution_count": 0,
      "outputs": [
        {
          "output_type": "stream",
          "text": [
            "Using TensorFlow backend.\n"
          ],
          "name": "stderr"
        }
      ]
    },
    {
      "metadata": {
        "id": "KpyUPwQ_XvSy",
        "colab_type": "code",
        "outputId": "6154a953-ad1c-47d5-b783-5e29a819d15a",
        "colab": {
          "base_uri": "https://localhost:8080/",
          "height": 338
        }
      },
      "cell_type": "code",
      "source": [
        "data = pd.read_csv(\"/content/gdrive/My Drive/churn model/WA_Fn-UseC_-Telco-Customer-Churn.csv\")\n",
        "data.head()"
      ],
      "execution_count": 0,
      "outputs": [
        {
          "output_type": "execute_result",
          "data": {
            "text/html": [
              "<div>\n",
              "<style scoped>\n",
              "    .dataframe tbody tr th:only-of-type {\n",
              "        vertical-align: middle;\n",
              "    }\n",
              "\n",
              "    .dataframe tbody tr th {\n",
              "        vertical-align: top;\n",
              "    }\n",
              "\n",
              "    .dataframe thead th {\n",
              "        text-align: right;\n",
              "    }\n",
              "</style>\n",
              "<table border=\"1\" class=\"dataframe\">\n",
              "  <thead>\n",
              "    <tr style=\"text-align: right;\">\n",
              "      <th></th>\n",
              "      <th>customerID</th>\n",
              "      <th>gender</th>\n",
              "      <th>SeniorCitizen</th>\n",
              "      <th>Partner</th>\n",
              "      <th>Dependents</th>\n",
              "      <th>tenure</th>\n",
              "      <th>PhoneService</th>\n",
              "      <th>MultipleLines</th>\n",
              "      <th>InternetService</th>\n",
              "      <th>OnlineSecurity</th>\n",
              "      <th>...</th>\n",
              "      <th>DeviceProtection</th>\n",
              "      <th>TechSupport</th>\n",
              "      <th>StreamingTV</th>\n",
              "      <th>StreamingMovies</th>\n",
              "      <th>Contract</th>\n",
              "      <th>PaperlessBilling</th>\n",
              "      <th>PaymentMethod</th>\n",
              "      <th>MonthlyCharges</th>\n",
              "      <th>TotalCharges</th>\n",
              "      <th>Churn</th>\n",
              "    </tr>\n",
              "  </thead>\n",
              "  <tbody>\n",
              "    <tr>\n",
              "      <th>0</th>\n",
              "      <td>7590-VHVEG</td>\n",
              "      <td>Female</td>\n",
              "      <td>0</td>\n",
              "      <td>Yes</td>\n",
              "      <td>No</td>\n",
              "      <td>1</td>\n",
              "      <td>No</td>\n",
              "      <td>No phone service</td>\n",
              "      <td>DSL</td>\n",
              "      <td>No</td>\n",
              "      <td>...</td>\n",
              "      <td>No</td>\n",
              "      <td>No</td>\n",
              "      <td>No</td>\n",
              "      <td>No</td>\n",
              "      <td>Month-to-month</td>\n",
              "      <td>Yes</td>\n",
              "      <td>Electronic check</td>\n",
              "      <td>29.85</td>\n",
              "      <td>29.85</td>\n",
              "      <td>No</td>\n",
              "    </tr>\n",
              "    <tr>\n",
              "      <th>1</th>\n",
              "      <td>5575-GNVDE</td>\n",
              "      <td>Male</td>\n",
              "      <td>0</td>\n",
              "      <td>No</td>\n",
              "      <td>No</td>\n",
              "      <td>34</td>\n",
              "      <td>Yes</td>\n",
              "      <td>No</td>\n",
              "      <td>DSL</td>\n",
              "      <td>Yes</td>\n",
              "      <td>...</td>\n",
              "      <td>Yes</td>\n",
              "      <td>No</td>\n",
              "      <td>No</td>\n",
              "      <td>No</td>\n",
              "      <td>One year</td>\n",
              "      <td>No</td>\n",
              "      <td>Mailed check</td>\n",
              "      <td>56.95</td>\n",
              "      <td>1889.5</td>\n",
              "      <td>No</td>\n",
              "    </tr>\n",
              "    <tr>\n",
              "      <th>2</th>\n",
              "      <td>3668-QPYBK</td>\n",
              "      <td>Male</td>\n",
              "      <td>0</td>\n",
              "      <td>No</td>\n",
              "      <td>No</td>\n",
              "      <td>2</td>\n",
              "      <td>Yes</td>\n",
              "      <td>No</td>\n",
              "      <td>DSL</td>\n",
              "      <td>Yes</td>\n",
              "      <td>...</td>\n",
              "      <td>No</td>\n",
              "      <td>No</td>\n",
              "      <td>No</td>\n",
              "      <td>No</td>\n",
              "      <td>Month-to-month</td>\n",
              "      <td>Yes</td>\n",
              "      <td>Mailed check</td>\n",
              "      <td>53.85</td>\n",
              "      <td>108.15</td>\n",
              "      <td>Yes</td>\n",
              "    </tr>\n",
              "    <tr>\n",
              "      <th>3</th>\n",
              "      <td>7795-CFOCW</td>\n",
              "      <td>Male</td>\n",
              "      <td>0</td>\n",
              "      <td>No</td>\n",
              "      <td>No</td>\n",
              "      <td>45</td>\n",
              "      <td>No</td>\n",
              "      <td>No phone service</td>\n",
              "      <td>DSL</td>\n",
              "      <td>Yes</td>\n",
              "      <td>...</td>\n",
              "      <td>Yes</td>\n",
              "      <td>Yes</td>\n",
              "      <td>No</td>\n",
              "      <td>No</td>\n",
              "      <td>One year</td>\n",
              "      <td>No</td>\n",
              "      <td>Bank transfer (automatic)</td>\n",
              "      <td>42.30</td>\n",
              "      <td>1840.75</td>\n",
              "      <td>No</td>\n",
              "    </tr>\n",
              "    <tr>\n",
              "      <th>4</th>\n",
              "      <td>9237-HQITU</td>\n",
              "      <td>Female</td>\n",
              "      <td>0</td>\n",
              "      <td>No</td>\n",
              "      <td>No</td>\n",
              "      <td>2</td>\n",
              "      <td>Yes</td>\n",
              "      <td>No</td>\n",
              "      <td>Fiber optic</td>\n",
              "      <td>No</td>\n",
              "      <td>...</td>\n",
              "      <td>No</td>\n",
              "      <td>No</td>\n",
              "      <td>No</td>\n",
              "      <td>No</td>\n",
              "      <td>Month-to-month</td>\n",
              "      <td>Yes</td>\n",
              "      <td>Electronic check</td>\n",
              "      <td>70.70</td>\n",
              "      <td>151.65</td>\n",
              "      <td>Yes</td>\n",
              "    </tr>\n",
              "  </tbody>\n",
              "</table>\n",
              "<p>5 rows × 21 columns</p>\n",
              "</div>"
            ],
            "text/plain": [
              "   customerID  gender  SeniorCitizen Partner Dependents  tenure PhoneService  \\\n",
              "0  7590-VHVEG  Female              0     Yes         No       1           No   \n",
              "1  5575-GNVDE    Male              0      No         No      34          Yes   \n",
              "2  3668-QPYBK    Male              0      No         No       2          Yes   \n",
              "3  7795-CFOCW    Male              0      No         No      45           No   \n",
              "4  9237-HQITU  Female              0      No         No       2          Yes   \n",
              "\n",
              "      MultipleLines InternetService OnlineSecurity  ...  DeviceProtection  \\\n",
              "0  No phone service             DSL             No  ...                No   \n",
              "1                No             DSL            Yes  ...               Yes   \n",
              "2                No             DSL            Yes  ...                No   \n",
              "3  No phone service             DSL            Yes  ...               Yes   \n",
              "4                No     Fiber optic             No  ...                No   \n",
              "\n",
              "  TechSupport StreamingTV StreamingMovies        Contract PaperlessBilling  \\\n",
              "0          No          No              No  Month-to-month              Yes   \n",
              "1          No          No              No        One year               No   \n",
              "2          No          No              No  Month-to-month              Yes   \n",
              "3         Yes          No              No        One year               No   \n",
              "4          No          No              No  Month-to-month              Yes   \n",
              "\n",
              "               PaymentMethod MonthlyCharges  TotalCharges Churn  \n",
              "0           Electronic check          29.85         29.85    No  \n",
              "1               Mailed check          56.95        1889.5    No  \n",
              "2               Mailed check          53.85        108.15   Yes  \n",
              "3  Bank transfer (automatic)          42.30       1840.75    No  \n",
              "4           Electronic check          70.70        151.65   Yes  \n",
              "\n",
              "[5 rows x 21 columns]"
            ]
          },
          "metadata": {
            "tags": []
          },
          "execution_count": 5
        }
      ]
    },
    {
      "metadata": {
        "id": "rVx6HayMnMo6",
        "colab_type": "text"
      },
      "cell_type": "markdown",
      "source": [
        "## 2.   Preporcess Data\n",
        "\n"
      ]
    },
    {
      "metadata": {
        "id": "L5R7iDGy6tdO",
        "colab_type": "code",
        "outputId": "d732afe0-a55c-4f37-cbe5-4e321ba1b922",
        "colab": {
          "base_uri": "https://localhost:8080/",
          "height": 394
        }
      },
      "cell_type": "code",
      "source": [
        "data.dtypes"
      ],
      "execution_count": 0,
      "outputs": [
        {
          "output_type": "execute_result",
          "data": {
            "text/plain": [
              "customerID           object\n",
              "gender               object\n",
              "SeniorCitizen         int64\n",
              "Partner              object\n",
              "Dependents           object\n",
              "tenure                int64\n",
              "PhoneService         object\n",
              "MultipleLines        object\n",
              "InternetService      object\n",
              "OnlineSecurity       object\n",
              "OnlineBackup         object\n",
              "DeviceProtection     object\n",
              "TechSupport          object\n",
              "StreamingTV          object\n",
              "StreamingMovies      object\n",
              "Contract             object\n",
              "PaperlessBilling     object\n",
              "PaymentMethod        object\n",
              "MonthlyCharges      float64\n",
              "TotalCharges         object\n",
              "Churn                object\n",
              "dtype: object"
            ]
          },
          "metadata": {
            "tags": []
          },
          "execution_count": 6
        }
      ]
    },
    {
      "metadata": {
        "trusted": true,
        "_uuid": "8b10c13086dff7182e399b849e31bc03df54a14e",
        "id": "6oOu9WYZYpct",
        "colab_type": "code",
        "outputId": "84dfc5a0-7658-47dd-d78e-049cb2644e74",
        "colab": {
          "base_uri": "https://localhost:8080/",
          "height": 291
        }
      },
      "cell_type": "code",
      "source": [
        "#data Manipulation\n",
        "\n",
        "\n",
        "#Dropping null values from total charges column\n",
        "data.TotalCharges = pd.to_numeric(data.TotalCharges, errors='coerce')\n",
        "data.dropna(inplace = True)\n",
        "#Dropping customerID\n",
        "data.drop(labels=['customerID'],axis=1,inplace=True)\n",
        "data.reset_index()\n",
        "#replace 'No internet service' to No for the following columns\n",
        "replace_cols = [ 'OnlineSecurity', 'OnlineBackup', 'DeviceProtection',\n",
        "                'TechSupport','StreamingTV', 'StreamingMovies']\n",
        "\n",
        "data[replace_cols]  = data[replace_cols].replace({'No internet service' : 'No'})\n",
        "\n",
        "columns_to_convert = ['Partner', 'Dependents', 'PhoneService', 'OnlineSecurity','OnlineBackup','DeviceProtection',\n",
        "                      'TechSupport','StreamingTV','StreamingMovies','PaperlessBilling', 'Churn']\n",
        "data[columns_to_convert]  = data[columns_to_convert].replace({'No' : 0,'Yes':1})\n",
        "data['MultipleLines'] = [1 if each == \"Yes\" else 0 if each == \"No\" else -1 for each in data['MultipleLines']]\n",
        "data['gender']= data['gender'].replace({'Female':1, 'Male':0})\n",
        "data.head()\n",
        "\n"
      ],
      "execution_count": 0,
      "outputs": [
        {
          "output_type": "execute_result",
          "data": {
            "text/html": [
              "<div>\n",
              "<style scoped>\n",
              "    .dataframe tbody tr th:only-of-type {\n",
              "        vertical-align: middle;\n",
              "    }\n",
              "\n",
              "    .dataframe tbody tr th {\n",
              "        vertical-align: top;\n",
              "    }\n",
              "\n",
              "    .dataframe thead th {\n",
              "        text-align: right;\n",
              "    }\n",
              "</style>\n",
              "<table border=\"1\" class=\"dataframe\">\n",
              "  <thead>\n",
              "    <tr style=\"text-align: right;\">\n",
              "      <th></th>\n",
              "      <th>gender</th>\n",
              "      <th>SeniorCitizen</th>\n",
              "      <th>Partner</th>\n",
              "      <th>Dependents</th>\n",
              "      <th>tenure</th>\n",
              "      <th>PhoneService</th>\n",
              "      <th>MultipleLines</th>\n",
              "      <th>InternetService</th>\n",
              "      <th>OnlineSecurity</th>\n",
              "      <th>OnlineBackup</th>\n",
              "      <th>DeviceProtection</th>\n",
              "      <th>TechSupport</th>\n",
              "      <th>StreamingTV</th>\n",
              "      <th>StreamingMovies</th>\n",
              "      <th>Contract</th>\n",
              "      <th>PaperlessBilling</th>\n",
              "      <th>PaymentMethod</th>\n",
              "      <th>MonthlyCharges</th>\n",
              "      <th>TotalCharges</th>\n",
              "      <th>Churn</th>\n",
              "    </tr>\n",
              "  </thead>\n",
              "  <tbody>\n",
              "    <tr>\n",
              "      <th>0</th>\n",
              "      <td>1</td>\n",
              "      <td>0</td>\n",
              "      <td>1</td>\n",
              "      <td>0</td>\n",
              "      <td>1</td>\n",
              "      <td>0</td>\n",
              "      <td>-1</td>\n",
              "      <td>DSL</td>\n",
              "      <td>0</td>\n",
              "      <td>1</td>\n",
              "      <td>0</td>\n",
              "      <td>0</td>\n",
              "      <td>0</td>\n",
              "      <td>0</td>\n",
              "      <td>Month-to-month</td>\n",
              "      <td>1</td>\n",
              "      <td>Electronic check</td>\n",
              "      <td>29.85</td>\n",
              "      <td>29.85</td>\n",
              "      <td>0</td>\n",
              "    </tr>\n",
              "    <tr>\n",
              "      <th>1</th>\n",
              "      <td>0</td>\n",
              "      <td>0</td>\n",
              "      <td>0</td>\n",
              "      <td>0</td>\n",
              "      <td>34</td>\n",
              "      <td>1</td>\n",
              "      <td>0</td>\n",
              "      <td>DSL</td>\n",
              "      <td>1</td>\n",
              "      <td>0</td>\n",
              "      <td>1</td>\n",
              "      <td>0</td>\n",
              "      <td>0</td>\n",
              "      <td>0</td>\n",
              "      <td>One year</td>\n",
              "      <td>0</td>\n",
              "      <td>Mailed check</td>\n",
              "      <td>56.95</td>\n",
              "      <td>1889.50</td>\n",
              "      <td>0</td>\n",
              "    </tr>\n",
              "    <tr>\n",
              "      <th>2</th>\n",
              "      <td>0</td>\n",
              "      <td>0</td>\n",
              "      <td>0</td>\n",
              "      <td>0</td>\n",
              "      <td>2</td>\n",
              "      <td>1</td>\n",
              "      <td>0</td>\n",
              "      <td>DSL</td>\n",
              "      <td>1</td>\n",
              "      <td>1</td>\n",
              "      <td>0</td>\n",
              "      <td>0</td>\n",
              "      <td>0</td>\n",
              "      <td>0</td>\n",
              "      <td>Month-to-month</td>\n",
              "      <td>1</td>\n",
              "      <td>Mailed check</td>\n",
              "      <td>53.85</td>\n",
              "      <td>108.15</td>\n",
              "      <td>1</td>\n",
              "    </tr>\n",
              "    <tr>\n",
              "      <th>3</th>\n",
              "      <td>0</td>\n",
              "      <td>0</td>\n",
              "      <td>0</td>\n",
              "      <td>0</td>\n",
              "      <td>45</td>\n",
              "      <td>0</td>\n",
              "      <td>-1</td>\n",
              "      <td>DSL</td>\n",
              "      <td>1</td>\n",
              "      <td>0</td>\n",
              "      <td>1</td>\n",
              "      <td>1</td>\n",
              "      <td>0</td>\n",
              "      <td>0</td>\n",
              "      <td>One year</td>\n",
              "      <td>0</td>\n",
              "      <td>Bank transfer (automatic)</td>\n",
              "      <td>42.30</td>\n",
              "      <td>1840.75</td>\n",
              "      <td>0</td>\n",
              "    </tr>\n",
              "    <tr>\n",
              "      <th>4</th>\n",
              "      <td>1</td>\n",
              "      <td>0</td>\n",
              "      <td>0</td>\n",
              "      <td>0</td>\n",
              "      <td>2</td>\n",
              "      <td>1</td>\n",
              "      <td>0</td>\n",
              "      <td>Fiber optic</td>\n",
              "      <td>0</td>\n",
              "      <td>0</td>\n",
              "      <td>0</td>\n",
              "      <td>0</td>\n",
              "      <td>0</td>\n",
              "      <td>0</td>\n",
              "      <td>Month-to-month</td>\n",
              "      <td>1</td>\n",
              "      <td>Electronic check</td>\n",
              "      <td>70.70</td>\n",
              "      <td>151.65</td>\n",
              "      <td>1</td>\n",
              "    </tr>\n",
              "  </tbody>\n",
              "</table>\n",
              "</div>"
            ],
            "text/plain": [
              "   gender  SeniorCitizen  Partner  Dependents  tenure  PhoneService  \\\n",
              "0       1              0        1           0       1             0   \n",
              "1       0              0        0           0      34             1   \n",
              "2       0              0        0           0       2             1   \n",
              "3       0              0        0           0      45             0   \n",
              "4       1              0        0           0       2             1   \n",
              "\n",
              "   MultipleLines InternetService  OnlineSecurity  OnlineBackup  \\\n",
              "0             -1             DSL               0             1   \n",
              "1              0             DSL               1             0   \n",
              "2              0             DSL               1             1   \n",
              "3             -1             DSL               1             0   \n",
              "4              0     Fiber optic               0             0   \n",
              "\n",
              "   DeviceProtection  TechSupport  StreamingTV  StreamingMovies  \\\n",
              "0                 0            0            0                0   \n",
              "1                 1            0            0                0   \n",
              "2                 0            0            0                0   \n",
              "3                 1            1            0                0   \n",
              "4                 0            0            0                0   \n",
              "\n",
              "         Contract  PaperlessBilling              PaymentMethod  \\\n",
              "0  Month-to-month                 1           Electronic check   \n",
              "1        One year                 0               Mailed check   \n",
              "2  Month-to-month                 1               Mailed check   \n",
              "3        One year                 0  Bank transfer (automatic)   \n",
              "4  Month-to-month                 1           Electronic check   \n",
              "\n",
              "   MonthlyCharges  TotalCharges  Churn  \n",
              "0           29.85         29.85      0  \n",
              "1           56.95       1889.50      0  \n",
              "2           53.85        108.15      1  \n",
              "3           42.30       1840.75      0  \n",
              "4           70.70        151.65      1  "
            ]
          },
          "metadata": {
            "tags": []
          },
          "execution_count": 7
        }
      ]
    },
    {
      "metadata": {
        "id": "Vlk9j2TNMwxE",
        "colab_type": "code",
        "outputId": "460bfeea-9e2d-4f7d-b88f-6ec0748118a5",
        "colab": {
          "base_uri": "https://localhost:8080/",
          "height": 286
        }
      },
      "cell_type": "code",
      "source": [
        "data = pd.get_dummies(data=data)\n",
        "data.head()"
      ],
      "execution_count": 0,
      "outputs": [
        {
          "output_type": "execute_result",
          "data": {
            "text/html": [
              "<div>\n",
              "<style scoped>\n",
              "    .dataframe tbody tr th:only-of-type {\n",
              "        vertical-align: middle;\n",
              "    }\n",
              "\n",
              "    .dataframe tbody tr th {\n",
              "        vertical-align: top;\n",
              "    }\n",
              "\n",
              "    .dataframe thead th {\n",
              "        text-align: right;\n",
              "    }\n",
              "</style>\n",
              "<table border=\"1\" class=\"dataframe\">\n",
              "  <thead>\n",
              "    <tr style=\"text-align: right;\">\n",
              "      <th></th>\n",
              "      <th>gender</th>\n",
              "      <th>SeniorCitizen</th>\n",
              "      <th>Partner</th>\n",
              "      <th>Dependents</th>\n",
              "      <th>tenure</th>\n",
              "      <th>PhoneService</th>\n",
              "      <th>MultipleLines</th>\n",
              "      <th>OnlineSecurity</th>\n",
              "      <th>OnlineBackup</th>\n",
              "      <th>DeviceProtection</th>\n",
              "      <th>...</th>\n",
              "      <th>InternetService_DSL</th>\n",
              "      <th>InternetService_Fiber optic</th>\n",
              "      <th>InternetService_No</th>\n",
              "      <th>Contract_Month-to-month</th>\n",
              "      <th>Contract_One year</th>\n",
              "      <th>Contract_Two year</th>\n",
              "      <th>PaymentMethod_Bank transfer (automatic)</th>\n",
              "      <th>PaymentMethod_Credit card (automatic)</th>\n",
              "      <th>PaymentMethod_Electronic check</th>\n",
              "      <th>PaymentMethod_Mailed check</th>\n",
              "    </tr>\n",
              "  </thead>\n",
              "  <tbody>\n",
              "    <tr>\n",
              "      <th>0</th>\n",
              "      <td>1</td>\n",
              "      <td>0</td>\n",
              "      <td>1</td>\n",
              "      <td>0</td>\n",
              "      <td>1</td>\n",
              "      <td>0</td>\n",
              "      <td>-1</td>\n",
              "      <td>0</td>\n",
              "      <td>1</td>\n",
              "      <td>0</td>\n",
              "      <td>...</td>\n",
              "      <td>1</td>\n",
              "      <td>0</td>\n",
              "      <td>0</td>\n",
              "      <td>1</td>\n",
              "      <td>0</td>\n",
              "      <td>0</td>\n",
              "      <td>0</td>\n",
              "      <td>0</td>\n",
              "      <td>1</td>\n",
              "      <td>0</td>\n",
              "    </tr>\n",
              "    <tr>\n",
              "      <th>1</th>\n",
              "      <td>0</td>\n",
              "      <td>0</td>\n",
              "      <td>0</td>\n",
              "      <td>0</td>\n",
              "      <td>34</td>\n",
              "      <td>1</td>\n",
              "      <td>0</td>\n",
              "      <td>1</td>\n",
              "      <td>0</td>\n",
              "      <td>1</td>\n",
              "      <td>...</td>\n",
              "      <td>1</td>\n",
              "      <td>0</td>\n",
              "      <td>0</td>\n",
              "      <td>0</td>\n",
              "      <td>1</td>\n",
              "      <td>0</td>\n",
              "      <td>0</td>\n",
              "      <td>0</td>\n",
              "      <td>0</td>\n",
              "      <td>1</td>\n",
              "    </tr>\n",
              "    <tr>\n",
              "      <th>2</th>\n",
              "      <td>0</td>\n",
              "      <td>0</td>\n",
              "      <td>0</td>\n",
              "      <td>0</td>\n",
              "      <td>2</td>\n",
              "      <td>1</td>\n",
              "      <td>0</td>\n",
              "      <td>1</td>\n",
              "      <td>1</td>\n",
              "      <td>0</td>\n",
              "      <td>...</td>\n",
              "      <td>1</td>\n",
              "      <td>0</td>\n",
              "      <td>0</td>\n",
              "      <td>1</td>\n",
              "      <td>0</td>\n",
              "      <td>0</td>\n",
              "      <td>0</td>\n",
              "      <td>0</td>\n",
              "      <td>0</td>\n",
              "      <td>1</td>\n",
              "    </tr>\n",
              "    <tr>\n",
              "      <th>3</th>\n",
              "      <td>0</td>\n",
              "      <td>0</td>\n",
              "      <td>0</td>\n",
              "      <td>0</td>\n",
              "      <td>45</td>\n",
              "      <td>0</td>\n",
              "      <td>-1</td>\n",
              "      <td>1</td>\n",
              "      <td>0</td>\n",
              "      <td>1</td>\n",
              "      <td>...</td>\n",
              "      <td>1</td>\n",
              "      <td>0</td>\n",
              "      <td>0</td>\n",
              "      <td>0</td>\n",
              "      <td>1</td>\n",
              "      <td>0</td>\n",
              "      <td>1</td>\n",
              "      <td>0</td>\n",
              "      <td>0</td>\n",
              "      <td>0</td>\n",
              "    </tr>\n",
              "    <tr>\n",
              "      <th>4</th>\n",
              "      <td>1</td>\n",
              "      <td>0</td>\n",
              "      <td>0</td>\n",
              "      <td>0</td>\n",
              "      <td>2</td>\n",
              "      <td>1</td>\n",
              "      <td>0</td>\n",
              "      <td>0</td>\n",
              "      <td>0</td>\n",
              "      <td>0</td>\n",
              "      <td>...</td>\n",
              "      <td>0</td>\n",
              "      <td>1</td>\n",
              "      <td>0</td>\n",
              "      <td>1</td>\n",
              "      <td>0</td>\n",
              "      <td>0</td>\n",
              "      <td>0</td>\n",
              "      <td>0</td>\n",
              "      <td>1</td>\n",
              "      <td>0</td>\n",
              "    </tr>\n",
              "  </tbody>\n",
              "</table>\n",
              "<p>5 rows × 27 columns</p>\n",
              "</div>"
            ],
            "text/plain": [
              "   gender  SeniorCitizen  Partner  Dependents  tenure  PhoneService  \\\n",
              "0       1              0        1           0       1             0   \n",
              "1       0              0        0           0      34             1   \n",
              "2       0              0        0           0       2             1   \n",
              "3       0              0        0           0      45             0   \n",
              "4       1              0        0           0       2             1   \n",
              "\n",
              "   MultipleLines  OnlineSecurity  OnlineBackup  DeviceProtection  \\\n",
              "0             -1               0             1                 0   \n",
              "1              0               1             0                 1   \n",
              "2              0               1             1                 0   \n",
              "3             -1               1             0                 1   \n",
              "4              0               0             0                 0   \n",
              "\n",
              "              ...              InternetService_DSL  \\\n",
              "0             ...                                1   \n",
              "1             ...                                1   \n",
              "2             ...                                1   \n",
              "3             ...                                1   \n",
              "4             ...                                0   \n",
              "\n",
              "   InternetService_Fiber optic  InternetService_No  Contract_Month-to-month  \\\n",
              "0                            0                   0                        1   \n",
              "1                            0                   0                        0   \n",
              "2                            0                   0                        1   \n",
              "3                            0                   0                        0   \n",
              "4                            1                   0                        1   \n",
              "\n",
              "   Contract_One year  Contract_Two year  \\\n",
              "0                  0                  0   \n",
              "1                  1                  0   \n",
              "2                  0                  0   \n",
              "3                  1                  0   \n",
              "4                  0                  0   \n",
              "\n",
              "   PaymentMethod_Bank transfer (automatic)  \\\n",
              "0                                        0   \n",
              "1                                        0   \n",
              "2                                        0   \n",
              "3                                        1   \n",
              "4                                        0   \n",
              "\n",
              "   PaymentMethod_Credit card (automatic)  PaymentMethod_Electronic check  \\\n",
              "0                                      0                               1   \n",
              "1                                      0                               0   \n",
              "2                                      0                               0   \n",
              "3                                      0                               0   \n",
              "4                                      0                               1   \n",
              "\n",
              "   PaymentMethod_Mailed check  \n",
              "0                           0  \n",
              "1                           1  \n",
              "2                           1  \n",
              "3                           0  \n",
              "4                           0  \n",
              "\n",
              "[5 rows x 27 columns]"
            ]
          },
          "metadata": {
            "tags": []
          },
          "execution_count": 8
        }
      ]
    },
    {
      "metadata": {
        "id": "q78oN1o1-d4t",
        "colab_type": "code",
        "outputId": "c0fd688b-cbb6-400b-9a34-c42652ddc3ce",
        "colab": {
          "base_uri": "https://localhost:8080/",
          "height": 497
        }
      },
      "cell_type": "code",
      "source": [
        "data.corr()['Churn'].sort_values()"
      ],
      "execution_count": 0,
      "outputs": [
        {
          "output_type": "execute_result",
          "data": {
            "text/plain": [
              "tenure                                    -0.354049\n",
              "Contract_Two year                         -0.301552\n",
              "InternetService_No                        -0.227578\n",
              "TotalCharges                              -0.199484\n",
              "Contract_One year                         -0.178225\n",
              "OnlineSecurity                            -0.171270\n",
              "TechSupport                               -0.164716\n",
              "Dependents                                -0.163128\n",
              "Partner                                   -0.149982\n",
              "PaymentMethod_Credit card (automatic)     -0.134687\n",
              "InternetService_DSL                       -0.124141\n",
              "PaymentMethod_Bank transfer (automatic)   -0.118136\n",
              "PaymentMethod_Mailed check                -0.090773\n",
              "OnlineBackup                              -0.082307\n",
              "DeviceProtection                          -0.066193\n",
              "gender                                     0.008545\n",
              "PhoneService                               0.011691\n",
              "MultipleLines                              0.036148\n",
              "StreamingMovies                            0.060860\n",
              "StreamingTV                                0.063254\n",
              "SeniorCitizen                              0.150541\n",
              "PaperlessBilling                           0.191454\n",
              "MonthlyCharges                             0.192858\n",
              "PaymentMethod_Electronic check             0.301455\n",
              "InternetService_Fiber optic                0.307463\n",
              "Contract_Month-to-month                    0.404565\n",
              "Churn                                      1.000000\n",
              "Name: Churn, dtype: float64"
            ]
          },
          "metadata": {
            "tags": []
          },
          "execution_count": 9
        }
      ]
    },
    {
      "metadata": {
        "id": "6QKzqZvpnivP",
        "colab_type": "text"
      },
      "cell_type": "markdown",
      "source": [
        "## 3.   Training and Validation Data Sets\n",
        "\n",
        "\n"
      ]
    },
    {
      "metadata": {
        "id": "m3ocmIW1CdHy",
        "colab_type": "code",
        "colab": {}
      },
      "cell_type": "code",
      "source": [
        "#assign Class_att column as y attribute\n",
        "y = data.Churn.values\n",
        "\n",
        "#drop Class_att column, remain only numerical columns\n",
        "new_data = data.drop([\"Churn\"],axis=1)\n",
        "x=new_data.values"
      ],
      "execution_count": 0,
      "outputs": []
    },
    {
      "metadata": {
        "id": "4vb8pXGwNZVA",
        "colab_type": "code",
        "colab": {}
      },
      "cell_type": "code",
      "source": [
        "x=preprocessing.StandardScaler().fit_transform(x)\n"
      ],
      "execution_count": 0,
      "outputs": []
    },
    {
      "metadata": {
        "id": "ylVO6-M2DRv8",
        "colab_type": "code",
        "colab": {}
      },
      "cell_type": "code",
      "source": [
        "X_train, X_valid, y_train, y_valid = train_test_split(x, y, test_size=0.2, random_state=42)"
      ],
      "execution_count": 0,
      "outputs": []
    },
    {
      "metadata": {
        "id": "rcKIvh7aowzH",
        "colab_type": "text"
      },
      "cell_type": "markdown",
      "source": [
        "## 4 Model Parameters"
      ]
    },
    {
      "metadata": {
        "id": "y2NzcTz6SYr1",
        "colab_type": "code",
        "colab": {}
      },
      "cell_type": "code",
      "source": [
        "#model parameters\n",
        "input_size=X_train.shape[1]\n",
        "output_classes=2\n",
        "hidden_layers=3\n",
        "hidden_layers_size=[4096,2048,1024,256,128]\n",
        "activation=['tanh','tanh','tanh','tanh','tanh']\n",
        "dropout=[0.0,0.0,0.0,0.0,0.0]\n",
        "retrain=True\n",
        "learning_rate=0.00000005\n",
        "learning_rate=0.00001\n",
        "# enter model path and file name where you want to load or save your new model\n",
        "model_path=\"/content/gdrive/My Drive/churn model/churnmodel_more_data_tanh.h5\""
      ],
      "execution_count": 0,
      "outputs": []
    },
    {
      "metadata": {
        "id": "CXiH7aPQo8kY",
        "colab_type": "text"
      },
      "cell_type": "markdown",
      "source": [
        "## 5 Model Functions"
      ]
    },
    {
      "metadata": {
        "id": "ivQV0GM9pD_H",
        "colab_type": "text"
      },
      "cell_type": "markdown",
      "source": [
        "### 5.1 Create MLP"
      ]
    },
    {
      "metadata": {
        "id": "-WqjoEKZSYsD",
        "colab_type": "code",
        "colab": {}
      },
      "cell_type": "code",
      "source": [
        "def create_MLP(input_s,output_s,hidden_layers,hidden_size,activation,dropout,learning_rate):\n",
        "    ml=[]\n",
        "    layers=[input_s]+hidden_size+[output_s]\n",
        "    dropout=[0.0]+dropout+[0.0]\n",
        "    activation=['']+activation+['']\n",
        "    ml.append(Dense(layers[1],input_shape=[input_s],activation=eval('tf.nn.'+activation[1])))\n",
        "    for i in range(2,len(layers)-1):\n",
        "        #print('tf.nn.'+activation[i])\n",
        "        ml.append(Dense(layers[i],activation=eval('tf.nn.'+activation[i])))\n",
        "    ml.append(Dense(layers[-1],activation=tf.nn.softmax))\n",
        "    print(ml)\n",
        "    model=tf.keras.models.Sequential(ml)\n",
        "    adam= optimizers.Adam(lr=learning_rate)\n",
        "    model.compile(optimizer='adam', loss='sparse_categorical_crossentropy',metrics=['accuracy'])\n",
        "    return model"
      ],
      "execution_count": 0,
      "outputs": []
    },
    {
      "metadata": {
        "id": "jO6f3Rw9pIY0",
        "colab_type": "text"
      },
      "cell_type": "markdown",
      "source": [
        "### 5.2 Testing Model"
      ]
    },
    {
      "metadata": {
        "id": "RYoP-BAxSYsI",
        "colab_type": "code",
        "colab": {}
      },
      "cell_type": "code",
      "source": [
        "def test_model(model,features,labels):\n",
        "    test_loss,test_accuracy=model.evaluate(features,labels)\n",
        "    return test_accuracy,test_loss"
      ],
      "execution_count": 0,
      "outputs": []
    },
    {
      "metadata": {
        "id": "RnMVn-UIpOlf",
        "colab_type": "text"
      },
      "cell_type": "markdown",
      "source": [
        "### 5.3 Testing  Model and Priniting Classification Report, Accuracy Score, and Confusion Matrix"
      ]
    },
    {
      "metadata": {
        "id": "3stNK04ySYsN",
        "colab_type": "code",
        "colab": {}
      },
      "cell_type": "code",
      "source": [
        "\n",
        "def test_report_model(model,features,labels):\n",
        "    test_loss,test_accuracy=model.evaluate(features,labels)\n",
        "    prob=model.predict(features)\n",
        "    print(prob.shape)\n",
        "    print(prob[0])\n",
        "    predictions=np.argmax(prob,axis=1)\n",
        "    print(predictions.shape)\n",
        "    print(classification_report(labels, predictions,digits=5))\n",
        "    print (\"Accuracy Score: \",accuracy_score(labels,predictions))\n",
        "    conf_matrix=confusion_matrix(labels,predictions)\n",
        "    #print (\"Confusion Matrix: \",conf_matrix)\n",
        "    import seaborn as sns\n",
        "    f, ax = plt.subplots(figsize = (5,5))\n",
        "    sns.heatmap(conf_matrix, annot = True, linewidths = 0.5, color = \"red\", fmt = \".0f\", ax=ax)\n",
        "    plt.xlabel(\"y_predicted\")\n",
        "    plt.ylabel(\"y_true\")\n",
        "    plt.title(\"Confusion Matrix\")\n",
        "    plt.show()\n",
        "    return test_accuracy"
      ],
      "execution_count": 0,
      "outputs": []
    },
    {
      "metadata": {
        "id": "x-pUtJWGpoPW",
        "colab_type": "text"
      },
      "cell_type": "markdown",
      "source": [
        "### 5.4 Training And Saving Model"
      ]
    },
    {
      "metadata": {
        "id": "lTYmcO2RSYsU",
        "colab_type": "code",
        "colab": {}
      },
      "cell_type": "code",
      "source": [
        "def train_model(model,epochs,features_train,labels_train,features_valid,labels_valid,valid_acc_max,model_path_name):\n",
        "    for i in range(epochs):\n",
        "      history=model.fit(features_train,labels_train,1)\n",
        "      _,valid_acc=model.evaluate(features_valid,labels_valid)\n",
        "      #valid_acc=history['acc'][0]\n",
        "      if valid_acc>valid_acc_max:\n",
        "        print(f\"*************New Model Saved with correct predictions of:{valid_acc:.5f}***************\")\n",
        "        model.save(model_path_name)\n",
        "        valid_acc_max= valid_acc\n",
        "    return model,valid_acc_max"
      ],
      "execution_count": 0,
      "outputs": []
    },
    {
      "metadata": {
        "id": "Uokr1hnTpyec",
        "colab_type": "text"
      },
      "cell_type": "markdown",
      "source": [
        "## 6. Model Creation "
      ]
    },
    {
      "metadata": {
        "id": "4O7RE-qbSYsZ",
        "colab_type": "code",
        "outputId": "750365ae-8558-4419-a702-2ee642073951",
        "colab": {
          "base_uri": "https://localhost:8080/",
          "height": 106
        }
      },
      "cell_type": "code",
      "source": [
        "# Model instainstiation\n",
        "#device = torch.device(\"cuda\" if torch.cuda.is_available() else \"cpu\")\n",
        "if(retrain):\n",
        "    model = tf.keras.models.load_model(model_path)\n",
        "    import tensorflow.keras.backend as K\n",
        "    # To get learning rate\n",
        "    print(K.get_value(model.optimizer.lr))\n",
        "    # To set learning rate\n",
        "    K.set_value(model.optimizer.lr, learning_rate)\n",
        "    \n",
        "else:\n",
        "    model=create_MLP(input_size,output_classes,hidden_layers,hidden_layers_size,activation,dropout,learning_rate)"
      ],
      "execution_count": 0,
      "outputs": [
        {
          "output_type": "stream",
          "text": [
            "WARNING:tensorflow:From /usr/local/lib/python3.6/dist-packages/tensorflow/python/ops/resource_variable_ops.py:435: colocate_with (from tensorflow.python.framework.ops) is deprecated and will be removed in a future version.\n",
            "Instructions for updating:\n",
            "Colocations handled automatically by placer.\n",
            "0.001\n"
          ],
          "name": "stdout"
        }
      ]
    },
    {
      "metadata": {
        "id": "3Glk0VvoSYsk",
        "colab_type": "code",
        "outputId": "69d6a59d-029c-408a-ab75-cc71f7f041a0",
        "colab": {
          "base_uri": "https://localhost:8080/",
          "height": 360
        }
      },
      "cell_type": "code",
      "source": [
        "print(model.summary())"
      ],
      "execution_count": 0,
      "outputs": [
        {
          "output_type": "stream",
          "text": [
            "_________________________________________________________________\n",
            "Layer (type)                 Output Shape              Param #   \n",
            "=================================================================\n",
            "dense (Dense)                (None, 4096)              110592    \n",
            "_________________________________________________________________\n",
            "dense_1 (Dense)              (None, 2048)              8390656   \n",
            "_________________________________________________________________\n",
            "dense_2 (Dense)              (None, 1024)              2098176   \n",
            "_________________________________________________________________\n",
            "dense_3 (Dense)              (None, 256)               262400    \n",
            "_________________________________________________________________\n",
            "dense_4 (Dense)              (None, 128)               32896     \n",
            "_________________________________________________________________\n",
            "dense_5 (Dense)              (None, 2)                 258       \n",
            "=================================================================\n",
            "Total params: 10,894,978\n",
            "Trainable params: 10,894,978\n",
            "Non-trainable params: 0\n",
            "_________________________________________________________________\n",
            "None\n"
          ],
          "name": "stdout"
        }
      ]
    },
    {
      "metadata": {
        "id": "Qypx1cJBp6_v",
        "colab_type": "text"
      },
      "cell_type": "markdown",
      "source": [
        "## 7. Training Model"
      ]
    },
    {
      "metadata": {
        "id": "C3U9qA1LSYss",
        "colab_type": "code",
        "outputId": "7d3f884b-ec8d-450b-940b-f1eb649ed738",
        "colab": {
          "base_uri": "https://localhost:8080/",
          "height": 51
        }
      },
      "cell_type": "code",
      "source": [
        "# test model intially over validation set\n",
        "valid_acc_max,valid_loss,=test_model(model,X_valid,y_valid)\n",
        "print(valid_acc_max,valid_loss)"
      ],
      "execution_count": 0,
      "outputs": [
        {
          "output_type": "stream",
          "text": [
            "1407/1407 [==============================] - 1s 602us/sample - loss: 0.4615 - acc: 0.7790\n",
            "0.7789623 0.4614730967260373\n"
          ],
          "name": "stdout"
        }
      ]
    },
    {
      "metadata": {
        "id": "Z1lPSWiHSYsx",
        "colab_type": "code",
        "outputId": "56443941-60c8-4186-99f7-23f7fc8ee638",
        "colab": {
          "base_uri": "https://localhost:8080/",
          "height": 223
        }
      },
      "cell_type": "code",
      "source": [
        "#train model\n",
        "model,valid_acc_max = train_model(model,5, X_train, y_train, X_valid, y_valid, valid_acc_max,model_path) \n",
        "print(valid_acc_max)"
      ],
      "execution_count": 0,
      "outputs": [
        {
          "output_type": "stream",
          "text": [
            "5625/5625 [==============================] - 84s 15ms/sample - loss: 0.4565 - acc: 0.7797\n",
            "1407/1407 [==============================] - 0s 102us/sample - loss: 0.4615 - acc: 0.7790\n",
            "*************New Model Saved with correct predictions of:0.77896***************\n",
            "5625/5625 [==============================] - 85s 15ms/sample - loss: 0.4560 - acc: 0.7780\n",
            "1407/1407 [==============================] - 0s 93us/sample - loss: 0.4797 - acc: 0.7647\n",
            "5625/5625 [==============================] - 85s 15ms/sample - loss: 0.4564 - acc: 0.7815\n",
            "1407/1407 [==============================] - 0s 92us/sample - loss: 0.4733 - acc: 0.7562\n",
            "5625/5625 [==============================] - 85s 15ms/sample - loss: 0.4601 - acc: 0.7826\n",
            "1407/1407 [==============================] - 0s 94us/sample - loss: 0.4682 - acc: 0.7754\n",
            "5625/5625 [==============================] - 85s 15ms/sample - loss: 0.4564 - acc: 0.7808\n",
            "1407/1407 [==============================] - 0s 96us/sample - loss: 0.4654 - acc: 0.7733\n",
            "0.7789623\n"
          ],
          "name": "stdout"
        }
      ]
    },
    {
      "metadata": {
        "id": "BnItZiNvqBPt",
        "colab_type": "text"
      },
      "cell_type": "markdown",
      "source": [
        "## 8. Testing Model"
      ]
    },
    {
      "metadata": {
        "id": "I2lpSXwVSYs1",
        "colab_type": "code",
        "outputId": "781a5dde-e305-422d-d074-2ffbccecc551",
        "colab": {
          "base_uri": "https://localhost:8080/",
          "height": 606
        }
      },
      "cell_type": "code",
      "source": [
        "test_report_model(model,X_valid,y_valid)"
      ],
      "execution_count": 0,
      "outputs": [
        {
          "output_type": "stream",
          "text": [
            "1407/1407 [==============================] - 0s 120us/sample - loss: 0.4615 - acc: 0.7790\n",
            "(1407, 2)\n",
            "[0.95234567 0.04765433]\n",
            "(1407,)\n",
            "              precision    recall  f1-score   support\n",
            "\n",
            "           0    0.82004   0.89545   0.85609      1033\n",
            "           1    0.61290   0.45722   0.52374       374\n",
            "\n",
            "   micro avg    0.77896   0.77896   0.77896      1407\n",
            "   macro avg    0.71647   0.67633   0.68991      1407\n",
            "weighted avg    0.76498   0.77896   0.76774      1407\n",
            "\n",
            "Accuracy Score:  0.7789623312011372\n"
          ],
          "name": "stdout"
        },
        {
          "output_type": "display_data",
          "data": {
            "image/png": "[encoded data removed]",
            "text/plain": [
              "<Figure size 360x360 with 2 Axes>"
            ]
          },
          "metadata": {
            "tags": []
          }
        },
        {
          "output_type": "execute_result",
          "data": {
            "text/plain": [
              "0.7789623"
            ]
          },
          "metadata": {
            "tags": []
          },
          "execution_count": 21
        }
      ]
    },
    {
      "metadata": {
        "id": "q5PuFEP0qPt7",
        "colab_type": "text"
      },
      "cell_type": "markdown",
      "source": [
        "## 9. Repeating Whole Process After Applying PCA on Data Set"
      ]
    },
    {
      "metadata": {
        "id": "h4_QaqYnSYuA",
        "colab_type": "code",
        "colab": {}
      },
      "cell_type": "code",
      "source": [
        "from sklearn.feature_selection import SelectKBest,SelectPercentile,chi2\n",
        "from sklearn.decomposition import PCA"
      ],
      "execution_count": 0,
      "outputs": []
    },
    {
      "metadata": {
        "id": "zQl7KFT0SYuC",
        "colab_type": "code",
        "colab": {}
      },
      "cell_type": "code",
      "source": [
        "n_components=10\n",
        "pca = PCA(n_components=10)\n",
        "x_new=pca.fit_transform(x)"
      ],
      "execution_count": 0,
      "outputs": []
    },
    {
      "metadata": {
        "id": "O_1TqOIoSYuG",
        "colab_type": "code",
        "outputId": "79cd8d7e-8299-4b87-a4ea-92b9a96901ab",
        "colab": {
          "base_uri": "https://localhost:8080/",
          "height": 34
        }
      },
      "cell_type": "code",
      "source": [
        "x_new.shape"
      ],
      "execution_count": 0,
      "outputs": [
        {
          "output_type": "execute_result",
          "data": {
            "text/plain": [
              "(7032, 10)"
            ]
          },
          "metadata": {
            "tags": []
          },
          "execution_count": 24
        }
      ]
    },
    {
      "metadata": {
        "id": "Km_4g2xfSYuL",
        "colab_type": "code",
        "colab": {}
      },
      "cell_type": "code",
      "source": [
        "X_train, X_valid, y_train, y_valid = train_test_split(x_new, y, test_size=0.2, random_state=42)"
      ],
      "execution_count": 0,
      "outputs": []
    },
    {
      "metadata": {
        "id": "uxunvWGtSYuO",
        "colab_type": "code",
        "outputId": "3f535c17-aa10-4361-d1fb-c640120cb27f",
        "colab": {
          "base_uri": "https://localhost:8080/",
          "height": 34
        }
      },
      "cell_type": "code",
      "source": [
        "X_train.shape"
      ],
      "execution_count": 0,
      "outputs": [
        {
          "output_type": "execute_result",
          "data": {
            "text/plain": [
              "(5625, 10)"
            ]
          },
          "metadata": {
            "tags": []
          },
          "execution_count": 26
        }
      ]
    },
    {
      "metadata": {
        "id": "3d3EyjE8SYuS",
        "colab_type": "code",
        "colab": {}
      },
      "cell_type": "code",
      "source": [
        "#model parameters\n",
        "input_size=X_train.shape[1]\n",
        "output_classes=2\n",
        "hidden_layers=3\n",
        "hidden_layers_size=[4096,2048,1024,256,128]\n",
        "activation=['tanh','tanh','tanh','tanh','tanh']\n",
        "dropout=[0.0,0.0,0.0,0.0,0.0]\n",
        "retrain=True\n",
        "#learning_rate=0.00000005\n",
        "learning_rate=0.00001\n",
        "# enter model path and file name where you want to load or save your new model\n",
        "model_path=f\"/content/gdrive/My Drive/churn model/churnmodel_more_data_tanh_PCA_{n_components}.h5\""
      ],
      "execution_count": 0,
      "outputs": []
    },
    {
      "metadata": {
        "colab_type": "code",
        "outputId": "e40393f8-40e6-407f-ce64-7c714488fc2d",
        "id": "bHBSWfnvgW04",
        "colab": {
          "base_uri": "https://localhost:8080/",
          "height": 34
        }
      },
      "cell_type": "code",
      "source": [
        "# Model instainstiation\n",
        "#device = torch.device(\"cuda\" if torch.cuda.is_available() else \"cpu\")\n",
        "if(retrain):\n",
        "    model = tf.keras.models.load_model(model_path)\n",
        "    import tensorflow.keras.backend as K\n",
        "    # To get learning rate\n",
        "    print(K.get_value(model.optimizer.lr))\n",
        "    # To set learning rate\n",
        "    K.set_value(model.optimizer.lr, learning_rate)\n",
        "    \n",
        "else:\n",
        "    model=create_MLP(input_size,output_classes,hidden_layers,hidden_layers_size,activation,dropout,learning_rate)"
      ],
      "execution_count": 0,
      "outputs": [
        {
          "output_type": "stream",
          "text": [
            "1e-05\n"
          ],
          "name": "stdout"
        }
      ]
    },
    {
      "metadata": {
        "colab_type": "code",
        "outputId": "36bc579f-c0dd-4de3-dea5-3588dec49fc3",
        "id": "rfyjX0qSgW0_",
        "colab": {
          "base_uri": "https://localhost:8080/",
          "height": 360
        }
      },
      "cell_type": "code",
      "source": [
        "print(model.summary())"
      ],
      "execution_count": 0,
      "outputs": [
        {
          "output_type": "stream",
          "text": [
            "_________________________________________________________________\n",
            "Layer (type)                 Output Shape              Param #   \n",
            "=================================================================\n",
            "dense_11 (Dense)             (None, 4096)              45056     \n",
            "_________________________________________________________________\n",
            "dense_12 (Dense)             (None, 2048)              8390656   \n",
            "_________________________________________________________________\n",
            "dense_13 (Dense)             (None, 1024)              2098176   \n",
            "_________________________________________________________________\n",
            "dense_14 (Dense)             (None, 256)               262400    \n",
            "_________________________________________________________________\n",
            "dense_15 (Dense)             (None, 128)               32896     \n",
            "_________________________________________________________________\n",
            "dense_16 (Dense)             (None, 2)                 258       \n",
            "=================================================================\n",
            "Total params: 10,829,442\n",
            "Trainable params: 10,829,442\n",
            "Non-trainable params: 0\n",
            "_________________________________________________________________\n",
            "None\n"
          ],
          "name": "stdout"
        }
      ]
    },
    {
      "metadata": {
        "colab_type": "code",
        "outputId": "0a6b3fc9-10e1-4efc-d68c-ff5e82898310",
        "id": "GzbKolTLgW1E",
        "colab": {
          "base_uri": "https://localhost:8080/",
          "height": 51
        }
      },
      "cell_type": "code",
      "source": [
        "# test model intially over validation set\n",
        "valid_acc_max,valid_loss,=test_model(model,X_valid,y_valid)\n",
        "print(valid_acc_max,valid_loss)"
      ],
      "execution_count": 0,
      "outputs": [
        {
          "output_type": "stream",
          "text": [
            "1407/1407 [==============================] - 0s 161us/sample - loss: 0.4543 - acc: 0.7747\n",
            "0.77469796 0.4543226630279335\n"
          ],
          "name": "stdout"
        }
      ]
    },
    {
      "metadata": {
        "colab_type": "code",
        "outputId": "e14f9f8c-587d-44a2-d578-c166918e2884",
        "id": "N_0Uk38cgW1Q",
        "colab": {
          "base_uri": "https://localhost:8080/",
          "height": 223
        }
      },
      "cell_type": "code",
      "source": [
        "#train model\n",
        "model,valid_acc_max = train_model(model,5, X_train, y_train, X_valid, y_valid, valid_acc_max,model_path) \n",
        "print(valid_acc_max)"
      ],
      "execution_count": 0,
      "outputs": [
        {
          "output_type": "stream",
          "text": [
            "5625/5625 [==============================] - 85s 15ms/sample - loss: 0.4315 - acc: 0.7908\n",
            "1407/1407 [==============================] - 0s 92us/sample - loss: 0.4545 - acc: 0.7733\n",
            "5625/5625 [==============================] - 84s 15ms/sample - loss: 0.4286 - acc: 0.7904\n",
            "1407/1407 [==============================] - 0s 95us/sample - loss: 0.4547 - acc: 0.7697\n",
            "5625/5625 [==============================] - 84s 15ms/sample - loss: 0.4271 - acc: 0.7936\n",
            "1407/1407 [==============================] - 0s 99us/sample - loss: 0.4545 - acc: 0.7711\n",
            "5625/5625 [==============================] - 84s 15ms/sample - loss: 0.4258 - acc: 0.7959\n",
            "1407/1407 [==============================] - 0s 93us/sample - loss: 0.4544 - acc: 0.7726\n",
            "5625/5625 [==============================] - 84s 15ms/sample - loss: 0.4249 - acc: 0.7959\n",
            "1407/1407 [==============================] - 0s 96us/sample - loss: 0.4535 - acc: 0.7761\n",
            "*************New Model Saved with correct predictions of:0.77612***************\n",
            "0.7761194\n"
          ],
          "name": "stdout"
        }
      ]
    },
    {
      "metadata": {
        "colab_type": "code",
        "id": "Qhy-Os1JgW1Y",
        "outputId": "c9f5c7c6-a594-4ce6-d9ec-a8322ad6dd9e",
        "colab": {
          "base_uri": "https://localhost:8080/",
          "height": 606
        }
      },
      "cell_type": "code",
      "source": [
        "test_report_model(model,X_valid,y_valid)"
      ],
      "execution_count": 0,
      "outputs": [
        {
          "output_type": "stream",
          "text": [
            "1407/1407 [==============================] - 0s 102us/sample - loss: 0.4535 - acc: 0.7761\n",
            "(1407, 2)\n",
            "[0.9787355 0.0212645]\n",
            "(1407,)\n",
            "              precision    recall  f1-score   support\n",
            "\n",
            "           0    0.82577   0.88093   0.85246      1033\n",
            "           1    0.59672   0.48663   0.53608       374\n",
            "\n",
            "   micro avg    0.77612   0.77612   0.77612      1407\n",
            "   macro avg    0.71125   0.68378   0.69427      1407\n",
            "weighted avg    0.76489   0.77612   0.76836      1407\n",
            "\n",
            "Accuracy Score:  0.7761194029850746\n"
          ],
          "name": "stdout"
        },
        {
          "output_type": "display_data",
          "data": {
            "image/png": "[encoded data removed]",
            "text/plain": [
              "<Figure size 360x360 with 2 Axes>"
            ]
          },
          "metadata": {
            "tags": []
          }
        },
        {
          "output_type": "execute_result",
          "data": {
            "text/plain": [
              "0.7761194"
            ]
          },
          "metadata": {
            "tags": []
          },
          "execution_count": 32
        }
      ]
    }
  ]
}